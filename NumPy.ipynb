{
 "cells": [
  {
   "cell_type": "raw",
   "id": "ec2e7bb4-2035-4a14-8a9d-c64e866b37cb",
   "metadata": {},
   "source": [
    "NumPy is a Python Library that provides a multidimensional arrat object,various derived object"
   ]
  },
  {
   "cell_type": "raw",
   "id": "453dd466-bd87-49a6-8676-ecb764e6c77e",
   "metadata": {},
   "source": [
    "It is a consume less memory.\n",
    "it is a fast as compared to Python List.\n",
    "It is take less time.\n",
    "It is a convenient to use."
   ]
  },
  {
   "cell_type": "markdown",
   "id": "7f7f57f3-674a-488d-a11c-42307565bf44",
   "metadata": {},
   "source": [
    "# NumPy"
   ]
  },
  {
   "cell_type": "code",
   "execution_count": 10,
   "id": "da940561-e316-4218-b119-2791db430767",
   "metadata": {},
   "outputs": [
    {
     "name": "stdout",
     "output_type": "stream",
     "text": [
      "[12 22 32 34 55 65] \n",
      " <class 'numpy.ndarray'>\n",
      "which ordere array? : 1\n"
     ]
    }
   ],
   "source": [
    "import numpy as np\n",
    "arr=np.array([12,22,32,34,55,65])\n",
    "print(arr,\"\\n\",type(arr))\n",
    "print(\"which ordere array? :\",arr.ndim)\n"
   ]
  },
  {
   "cell_type": "markdown",
   "id": "6f86b6a8-b192-418c-a4f1-fded94955017",
   "metadata": {},
   "source": [
    "# Time Module"
   ]
  },
  {
   "cell_type": "code",
   "execution_count": 28,
   "id": "54ba94eb-32af-495e-8ceb-58455797f5b6",
   "metadata": {
    "collapsed": true,
    "jupyter": {
     "outputs_hidden": true
    }
   },
   "outputs": [
    {
     "name": "stdout",
     "output_type": "stream",
     "text": [
      "A\n",
      "A\n",
      "A\n",
      "A\n",
      "A\n",
      "A\n",
      "A\n",
      "A\n",
      "A\n",
      "A\n",
      "A\n",
      "A\n",
      "A\n",
      "A\n",
      "A\n",
      "A\n",
      "A\n",
      "A\n",
      "A\n",
      "A\n",
      "A\n",
      "A\n",
      "A\n",
      "A\n",
      "A\n",
      "A\n",
      "A\n",
      "A\n",
      "A\n",
      "A\n",
      "A\n",
      "A\n",
      "A\n",
      "A\n",
      "A\n",
      "A\n",
      "A\n",
      "A\n",
      "A\n",
      "A\n",
      "A\n",
      "A\n",
      "A\n",
      "A\n",
      "A\n",
      "A\n",
      "A\n",
      "A\n",
      "A\n",
      "A\n",
      "A\n",
      "A\n",
      "A\n",
      "A\n",
      "A\n",
      "A\n",
      "A\n",
      "A\n",
      "A\n",
      "A\n",
      "A\n",
      "A\n",
      "A\n",
      "A\n",
      "A\n",
      "A\n",
      "A\n",
      "A\n",
      "A\n",
      "A\n",
      "A\n",
      "A\n",
      "A\n",
      "A\n",
      "A\n",
      "A\n",
      "A\n",
      "A\n",
      "A\n",
      "A\n",
      "A\n",
      "A\n",
      "A\n",
      "A\n",
      "A\n",
      "A\n",
      "A\n",
      "A\n",
      "A\n",
      "A\n",
      "A\n",
      "A\n",
      "A\n",
      "A\n",
      "A\n",
      "A\n",
      "A\n",
      "A\n",
      "A\n",
      "A\n",
      "A\n",
      "A\n",
      "A\n",
      "A\n",
      "A\n",
      "A\n",
      "A\n",
      "A\n",
      "A\n",
      "A\n",
      "A\n",
      "A\n",
      "A\n",
      "A\n",
      "A\n",
      "A\n",
      "A\n",
      "A\n",
      "A\n",
      "A\n",
      "A\n",
      "A\n",
      "A\n",
      "A\n",
      "A\n",
      "A\n",
      "A\n",
      "A\n",
      "A\n",
      "A\n",
      "A\n",
      "A\n",
      "A\n",
      "A\n",
      "A\n",
      "A\n",
      "A\n",
      "A\n",
      "A\n",
      "A\n",
      "A\n",
      "A\n",
      "A\n",
      "A\n",
      "A\n",
      "A\n",
      "A\n",
      "A\n",
      "A\n",
      "A\n",
      "A\n",
      "A\n",
      "A\n",
      "A\n",
      "A\n",
      "A\n",
      "A\n",
      "A\n",
      "A\n",
      "A\n",
      "A\n",
      "A\n",
      "A\n",
      "A\n",
      "A\n",
      "A\n",
      "A\n",
      "A\n",
      "A\n",
      "A\n",
      "A\n",
      "A\n",
      "A\n",
      "A\n",
      "A\n",
      "A\n",
      "A\n",
      "A\n",
      "A\n",
      "A\n",
      "A\n",
      "A\n",
      "A\n",
      "A\n",
      "A\n",
      "A\n",
      "A\n",
      "A\n",
      "A\n",
      "A\n",
      "A\n",
      "A\n",
      "A\n",
      "A\n",
      "A\n",
      "A\n",
      "A\n",
      "A\n",
      "A\n",
      "A\n",
      "A\n",
      "A\n",
      "A\n",
      "A\n",
      "A\n",
      "A\n",
      "A\n",
      "A\n",
      "A\n",
      "A\n",
      "A\n",
      "A\n",
      "A\n",
      "A\n",
      "A\n",
      "A\n",
      "A\n",
      "A\n",
      "A\n",
      "A\n",
      "A\n",
      "A\n",
      "A\n",
      "A\n",
      "A\n",
      "A\n",
      "A\n",
      "A\n",
      "A\n",
      "A\n",
      "A\n",
      "A\n",
      "A\n",
      "A\n",
      "A\n",
      "A\n",
      "A\n",
      "A\n",
      "A\n",
      "A\n",
      "A\n",
      "A\n",
      "A\n",
      "A\n",
      "A\n",
      "A\n",
      "A\n",
      "A\n",
      "A\n",
      "A\n",
      "A\n",
      "A\n",
      "A\n",
      "A\n",
      "A\n",
      "A\n",
      "A\n",
      "A\n",
      "A\n",
      "A\n",
      "A\n",
      "A\n",
      "A\n",
      "A\n",
      "A\n",
      "A\n",
      "A\n",
      "A\n",
      "A\n",
      "A\n",
      "A\n",
      "A\n",
      "A\n",
      "A\n",
      "A\n",
      "A\n",
      "A\n",
      "A\n",
      "A\n",
      "A\n",
      "A\n",
      "A\n",
      "A\n",
      "A\n",
      "A\n",
      "A\n",
      "A\n",
      "A\n",
      "A\n",
      "A\n",
      "A\n",
      "A\n",
      "A\n",
      "A\n",
      "A\n",
      "A\n",
      "A\n",
      "A\n",
      "A\n",
      "A\n",
      "A\n",
      "A\n",
      "A\n",
      "A\n",
      "A\n",
      "A\n",
      "A\n",
      "A\n",
      "A\n",
      "A\n",
      "A\n",
      "A\n",
      "A\n",
      "A\n",
      "A\n",
      "A\n",
      "A\n",
      "A\n",
      "A\n",
      "A\n",
      "A\n",
      "A\n",
      "A\n",
      "A\n",
      "A\n",
      "A\n",
      "A\n",
      "A\n",
      "A\n",
      "A\n",
      "A\n",
      "A\n",
      "A\n",
      "A\n",
      "A\n",
      "A\n",
      "A\n",
      "A\n",
      "A\n",
      "A\n",
      "A\n",
      "A\n",
      "A\n",
      "A\n",
      "A\n",
      "A\n",
      "A\n",
      "A\n",
      "A\n",
      "A\n",
      "A\n",
      "A\n",
      "A\n",
      "A\n",
      "A\n",
      "A\n",
      "A\n",
      "A\n",
      "A\n",
      "A\n",
      "A\n",
      "A\n",
      "A\n",
      "A\n",
      "A\n",
      "A\n",
      "A\n",
      "A\n",
      "A\n",
      "A\n",
      "A\n",
      "A\n",
      "A\n",
      "A\n",
      "A\n",
      "A\n",
      "A\n",
      "A\n",
      "A\n",
      "A\n",
      "A\n",
      "A\n",
      "A\n",
      "A\n",
      "A\n",
      "A\n",
      "A\n",
      "A\n",
      "A\n",
      "A\n",
      "A\n",
      "A\n",
      "A\n",
      "A\n",
      "A\n",
      "A\n",
      "A\n",
      "A\n",
      "A\n",
      "A\n",
      "A\n",
      "A\n",
      "A\n",
      "A\n",
      "A\n",
      "A\n",
      "A\n",
      "A\n",
      "A\n",
      "A\n",
      "A\n",
      "A\n",
      "A\n",
      "A\n",
      "A\n",
      "A\n",
      "A\n",
      "A\n",
      "A\n",
      "A\n",
      "A\n",
      "A\n",
      "A\n",
      "A\n",
      "A\n",
      "A\n",
      "A\n",
      "A\n",
      "A\n",
      "A\n",
      "A\n",
      "A\n",
      "A\n",
      "A\n",
      "A\n",
      "A\n",
      "A\n",
      "A\n",
      "A\n",
      "A\n",
      "A\n",
      "A\n",
      "A\n",
      "A\n",
      "A\n",
      "A\n",
      "A\n",
      "A\n",
      "A\n",
      "A\n",
      "A\n",
      "A\n",
      "A\n",
      "A\n",
      "A\n",
      "A\n",
      "A\n",
      "A\n",
      "A\n",
      "A\n",
      "A\n",
      "A\n",
      "A\n",
      "A\n",
      "A\n",
      "A\n",
      "A\n",
      "A\n",
      "A\n",
      "A\n",
      "A\n",
      "A\n",
      "A\n",
      "A\n",
      "A\n",
      "A\n",
      "A\n",
      "A\n",
      "A\n",
      "A\n",
      "A\n",
      "A\n",
      "A\n",
      "A\n",
      "A\n",
      "A\n",
      "A\n",
      "A\n",
      "A\n",
      "A\n",
      "A\n",
      "A\n",
      "A\n",
      "A\n",
      "A\n",
      "A\n",
      "A\n",
      "A\n",
      "A\n",
      "A\n",
      "0.008030176162719727\n",
      "B\n",
      "B\n",
      "B\n",
      "B\n",
      "B\n",
      "B\n",
      "B\n",
      "B\n",
      "B\n",
      "B\n",
      "B\n",
      "B\n",
      "B\n",
      "B\n",
      "B\n",
      "B\n",
      "B\n",
      "B\n",
      "B\n",
      "B\n",
      "B\n",
      "B\n",
      "B\n",
      "B\n",
      "B\n",
      "B\n",
      "B\n",
      "B\n",
      "B\n",
      "B\n",
      "B\n",
      "B\n",
      "B\n",
      "B\n",
      "B\n",
      "B\n",
      "B\n",
      "B\n",
      "B\n",
      "B\n",
      "B\n",
      "B\n",
      "B\n",
      "B\n",
      "B\n",
      "B\n",
      "B\n",
      "B\n",
      "B\n",
      "B\n",
      "B\n",
      "B\n",
      "B\n",
      "B\n",
      "B\n",
      "B\n",
      "B\n",
      "B\n",
      "B\n",
      "B\n",
      "B\n",
      "B\n",
      "B\n",
      "B\n",
      "B\n",
      "B\n",
      "B\n",
      "B\n",
      "B\n",
      "B\n",
      "B\n",
      "B\n",
      "B\n",
      "B\n",
      "B\n",
      "B\n",
      "B\n",
      "B\n",
      "B\n",
      "B\n",
      "B\n",
      "B\n",
      "B\n",
      "B\n",
      "B\n",
      "B\n",
      "B\n",
      "B\n",
      "B\n",
      "B\n",
      "B\n",
      "B\n",
      "B\n",
      "B\n",
      "B\n",
      "B\n",
      "B\n",
      "B\n",
      "B\n",
      "B\n",
      "B\n",
      "B\n",
      "B\n",
      "B\n",
      "B\n",
      "B\n",
      "B\n",
      "B\n",
      "B\n",
      "B\n",
      "B\n",
      "B\n",
      "B\n",
      "B\n",
      "B\n",
      "B\n",
      "B\n",
      "B\n",
      "B\n",
      "B\n",
      "B\n",
      "B\n",
      "B\n",
      "B\n",
      "B\n",
      "B\n",
      "B\n",
      "B\n",
      "B\n",
      "B\n",
      "B\n",
      "B\n",
      "B\n",
      "B\n",
      "B\n",
      "B\n",
      "B\n",
      "B\n",
      "B\n",
      "B\n",
      "B\n",
      "B\n",
      "B\n",
      "B\n",
      "B\n",
      "B\n",
      "B\n",
      "B\n",
      "B\n",
      "B\n",
      "B\n",
      "B\n",
      "B\n",
      "B\n",
      "B\n",
      "B\n",
      "B\n",
      "B\n",
      "B\n",
      "B\n",
      "B\n",
      "B\n",
      "B\n",
      "B\n",
      "B\n",
      "B\n",
      "B\n",
      "B\n",
      "B\n",
      "B\n",
      "B\n",
      "B\n",
      "B\n",
      "B\n",
      "B\n",
      "B\n",
      "B\n",
      "B\n",
      "B\n",
      "B\n",
      "B\n",
      "B\n",
      "B\n",
      "B\n",
      "B\n",
      "B\n",
      "B\n",
      "B\n",
      "B\n",
      "B\n",
      "B\n",
      "B\n",
      "B\n",
      "B\n",
      "B\n",
      "B\n",
      "B\n",
      "B\n",
      "B\n",
      "B\n",
      "B\n",
      "B\n",
      "B\n",
      "B\n",
      "B\n",
      "B\n",
      "B\n",
      "B\n",
      "B\n",
      "B\n",
      "B\n",
      "B\n",
      "B\n",
      "B\n",
      "B\n",
      "B\n",
      "B\n",
      "B\n",
      "B\n",
      "B\n",
      "B\n",
      "B\n",
      "B\n",
      "B\n",
      "B\n",
      "B\n",
      "B\n",
      "B\n",
      "B\n",
      "B\n",
      "B\n",
      "B\n",
      "B\n",
      "B\n",
      "B\n",
      "B\n",
      "B\n",
      "B\n",
      "B\n",
      "B\n",
      "B\n",
      "B\n",
      "B\n",
      "B\n",
      "B\n",
      "B\n",
      "B\n",
      "B\n",
      "B\n",
      "B\n",
      "B\n",
      "B\n",
      "B\n",
      "B\n",
      "B\n",
      "B\n",
      "B\n",
      "B\n",
      "B\n",
      "B\n",
      "B\n",
      "B\n",
      "B\n",
      "B\n",
      "B\n",
      "B\n",
      "B\n",
      "B\n",
      "B\n",
      "B\n",
      "B\n",
      "B\n",
      "B\n",
      "B\n",
      "B\n",
      "B\n",
      "B\n",
      "B\n",
      "B\n",
      "B\n",
      "B\n",
      "B\n",
      "B\n",
      "B\n",
      "B\n",
      "B\n",
      "B\n",
      "B\n",
      "B\n",
      "B\n",
      "B\n",
      "B\n",
      "B\n",
      "B\n",
      "B\n",
      "B\n",
      "B\n",
      "B\n",
      "B\n",
      "B\n",
      "B\n",
      "B\n",
      "B\n",
      "B\n",
      "B\n",
      "B\n",
      "B\n",
      "B\n",
      "B\n",
      "B\n",
      "B\n",
      "B\n",
      "B\n",
      "B\n",
      "B\n",
      "B\n",
      "B\n",
      "B\n",
      "B\n",
      "B\n",
      "B\n",
      "B\n",
      "B\n",
      "B\n",
      "B\n",
      "B\n",
      "B\n",
      "B\n",
      "B\n",
      "B\n",
      "B\n",
      "B\n",
      "B\n",
      "B\n",
      "B\n",
      "B\n",
      "B\n",
      "B\n",
      "B\n",
      "B\n",
      "B\n",
      "B\n",
      "B\n",
      "B\n",
      "B\n",
      "B\n",
      "B\n",
      "B\n",
      "B\n",
      "B\n",
      "B\n",
      "B\n",
      "B\n",
      "B\n",
      "B\n",
      "B\n",
      "B\n",
      "B\n",
      "B\n",
      "B\n",
      "B\n",
      "B\n",
      "B\n",
      "B\n",
      "B\n",
      "B\n",
      "B\n",
      "B\n",
      "B\n",
      "B\n",
      "B\n",
      "B\n",
      "B\n",
      "B\n",
      "B\n",
      "B\n",
      "B\n",
      "B\n",
      "B\n",
      "B\n",
      "B\n",
      "B\n",
      "B\n",
      "B\n",
      "B\n",
      "B\n",
      "B\n",
      "B\n",
      "B\n",
      "B\n",
      "B\n",
      "B\n",
      "B\n",
      "B\n",
      "B\n",
      "B\n",
      "B\n",
      "B\n",
      "B\n",
      "B\n",
      "B\n",
      "B\n",
      "B\n",
      "B\n",
      "B\n",
      "B\n",
      "B\n",
      "B\n",
      "B\n",
      "B\n",
      "B\n",
      "B\n",
      "B\n",
      "B\n",
      "B\n",
      "B\n",
      "B\n",
      "B\n",
      "B\n",
      "B\n",
      "B\n",
      "B\n",
      "B\n",
      "B\n",
      "B\n",
      "B\n",
      "B\n",
      "B\n",
      "B\n",
      "B\n",
      "B\n",
      "B\n",
      "B\n",
      "B\n",
      "B\n",
      "B\n",
      "B\n",
      "B\n",
      "B\n",
      "B\n",
      "B\n",
      "B\n",
      "B\n",
      "B\n",
      "B\n",
      "B\n",
      "B\n",
      "B\n",
      "B\n",
      "B\n",
      "B\n",
      "B\n",
      "B\n",
      "B\n",
      "B\n",
      "B\n",
      "B\n",
      "B\n",
      "B\n",
      "B\n",
      "B\n",
      "B\n",
      "B\n",
      "B\n",
      "B\n",
      "B\n",
      "B\n",
      "B\n",
      "B\n",
      "B\n",
      "B\n",
      "B\n",
      "B\n",
      "B\n",
      "B\n",
      "B\n",
      "B\n",
      "B\n",
      "B\n",
      "B\n",
      "B\n",
      "B\n",
      "B\n",
      "B\n",
      "B\n",
      "B\n",
      "B\n",
      "B\n",
      "B\n",
      "B\n",
      "B\n",
      "B\n",
      "B\n",
      "B\n",
      "B\n",
      "B\n",
      "B\n",
      "B\n",
      "B\n",
      "B\n",
      "0.008080720901489258\n"
     ]
    }
   ],
   "source": [
    "import time\n",
    "def dce():\n",
    "    i=0\n",
    "    while i<500:\n",
    "        print('A')\n",
    "        i+=1\n",
    "\n",
    "def beu():\n",
    "    for i in range(500):\n",
    "        print('B')\n",
    "        i+=1\n",
    "t1=time.time()\n",
    "dce()\n",
    "print(time.time()-t1)\n",
    "t2=time.time()\n",
    "beu()\n",
    "print(time.time()-t2)"
   ]
  },
  {
   "cell_type": "code",
   "execution_count": 32,
   "id": "4ffd6e48-e69b-4b83-9f01-95675536d2fb",
   "metadata": {},
   "outputs": [
    {
     "name": "stdout",
     "output_type": "stream",
     "text": [
      "[1 2 3 4 5 6]\n",
      "0.0\n",
      "[6 5 4 3 2 1]\n",
      "5.004620790481567\n"
     ]
    }
   ],
   "source": [
    "arr1=np.array([1,2,3,4,5,6])\n",
    "arr2=np.array([6,5,4,3,2,1])\n",
    "\n",
    "t1=time.time()\n",
    "print(arr1)\n",
    "print(time.time()-t1)\n",
    "\n",
    "\n",
    "t2=time.time()\n",
    "time.sleep(5)\n",
    "print(arr2)\n",
    "print(time.time()-t2)"
   ]
  },
  {
   "cell_type": "code",
   "execution_count": 23,
   "id": "2a16c6d9-5d28-4fbb-91b7-3f3f877c07e9",
   "metadata": {},
   "outputs": [
    {
     "name": "stdout",
     "output_type": "stream",
     "text": [
      "Hello\n"
     ]
    }
   ],
   "source": [
    "import time as t\n",
    "t.sleep(3)\n",
    "print(\"Hello\")"
   ]
  },
  {
   "cell_type": "markdown",
   "id": "4140452a-1d4f-45b7-91e3-e54aa7b9a8bb",
   "metadata": {},
   "source": [
    "# Array."
   ]
  },
  {
   "cell_type": "code",
   "execution_count": 33,
   "id": "b1645674-4bc1-4355-aaae-5704c683157e",
   "metadata": {},
   "outputs": [
    {
     "data": {
      "text/plain": [
       "array([12, 23, 34, 45, 67])"
      ]
     },
     "execution_count": 33,
     "metadata": {},
     "output_type": "execute_result"
    }
   ],
   "source": [
    "arr=np.array([12,23,34,45,67])\n",
    "arr"
   ]
  },
  {
   "cell_type": "code",
   "execution_count": 37,
   "id": "4f5fe692-1299-425f-8ff8-1e747b086af5",
   "metadata": {},
   "outputs": [
    {
     "name": "stdin",
     "output_type": "stream",
     "text": [
      "Enter number:  123654\n",
      "Enter number:  45\n",
      "Enter number:  47\n",
      "Enter number:  89\n",
      "Enter number:  78\n"
     ]
    },
    {
     "name": "stdout",
     "output_type": "stream",
     "text": [
      "Array is:  [123654     45     47     89     78]\n"
     ]
    }
   ],
   "source": [
    "l=[]\n",
    "for i in range(0,5,1):\n",
    "    num=int(input(\"Enter number: \"))\n",
    "    l.append(num)\n",
    "\n",
    "print(\"Array is: \",np.array(l))"
   ]
  },
  {
   "cell_type": "raw",
   "id": "af5d6408-ce0d-4cf4-b1b3-978eaa27c620",
   "metadata": {},
   "source": [
    "1-D Array\n",
    "2-D Array\n",
    "3-D Array\n",
    "Higher Dimensional Arrays"
   ]
  },
  {
   "cell_type": "markdown",
   "id": "4c750b47-2353-43b0-a70b-ef0df65f1210",
   "metadata": {},
   "source": [
    "# 1,2,3-D Array"
   ]
  },
  {
   "cell_type": "code",
   "execution_count": 40,
   "id": "10d1f118-2030-481e-bc2c-a751aa7f3d3a",
   "metadata": {},
   "outputs": [
    {
     "name": "stdout",
     "output_type": "stream",
     "text": [
      "[[ 12  21  23 322  34]]\n",
      "<class 'numpy.ndarray'>\n",
      "2 - D Array\n"
     ]
    }
   ],
   "source": [
    "arr=np.array([12,21,23,322,34])\n",
    "print(arr)\n",
    "print(type(arr))\n",
    "print(arr.ndim,\"- D Array\")"
   ]
  },
  {
   "cell_type": "code",
   "execution_count": 41,
   "id": "978be1d1-ad0d-4b0c-9533-a20651660208",
   "metadata": {},
   "outputs": [
    {
     "name": "stdout",
     "output_type": "stream",
     "text": [
      "[[ 12  21  34]\n",
      " [433  67  87]]\n",
      "<class 'numpy.ndarray'>\n",
      "2 - D Array\n"
     ]
    }
   ],
   "source": [
    "arr2=np.array([[12,21,34],[433,67,87,]])\n",
    "print(arr2)\n",
    "print(type(arr2))\n",
    "print(arr2.ndim,\"- D Array\")"
   ]
  },
  {
   "cell_type": "code",
   "execution_count": 46,
   "id": "90ceaa9f-352d-4d61-b707-db3340378c47",
   "metadata": {},
   "outputs": [
    {
     "name": "stdout",
     "output_type": "stream",
     "text": [
      "[[ 12  21  34]\n",
      " [433  67  87]\n",
      " [ 34  33   5]]\n",
      "<class 'numpy.ndarray'>\n",
      "2 - D Array\n"
     ]
    }
   ],
   "source": [
    "arr2=np.array([[12,21,34],[433,67,87,],[34,33,5]])\n",
    "print(arr2)\n",
    "print(type(arr2))\n",
    "print(arr2.ndim,\"- D Array\")"
   ]
  },
  {
   "cell_type": "code",
   "execution_count": 45,
   "id": "b6a158f0-288b-4690-83e7-877bd5e4d023",
   "metadata": {},
   "outputs": [
    {
     "name": "stdout",
     "output_type": "stream",
     "text": [
      "[[[ 12  21  34]\n",
      "  [433  67  87]\n",
      "  [ 34  33   5]]]\n",
      "<class 'numpy.ndarray'>\n",
      "3 - D Array\n"
     ]
    }
   ],
   "source": [
    "arr3=np.array([[[12,21,34],[433,67,87,],[34,33,5]]])\n",
    "print(arr3)\n",
    "print(type(arr3))\n",
    "print(arr3.ndim,\"- D Array\")"
   ]
  },
  {
   "cell_type": "markdown",
   "id": "b172f0bb-ecd0-4602-82d9-dfbcc06f84fe",
   "metadata": {},
   "source": [
    "# 10-D Array"
   ]
  },
  {
   "cell_type": "code",
   "execution_count": 47,
   "id": "a7a11ed0-e167-403a-8334-7582211a246d",
   "metadata": {},
   "outputs": [
    {
     "name": "stdout",
     "output_type": "stream",
     "text": [
      "[[[[[[[[[[ 23  43 456 775]]]]]]]]]]\n",
      "<class 'numpy.ndarray'>\n",
      "10\n"
     ]
    }
   ],
   "source": [
    "arr=np.array([23,43,456,775],ndmin=10)\n",
    "print(arr)\n",
    "print(type(arr))\n",
    "print(arr.ndim)"
   ]
  },
  {
   "cell_type": "markdown",
   "id": "86d6a2b7-7da0-4de4-b82b-c4654ed0e890",
   "metadata": {},
   "source": [
    "# Array Filled With zeros"
   ]
  },
  {
   "cell_type": "code",
   "execution_count": 56,
   "id": "5323fe00-2ce1-47bf-bbc3-6a5de860bb05",
   "metadata": {},
   "outputs": [
    {
     "name": "stdout",
     "output_type": "stream",
     "text": [
      "[0. 0. 0. 0.]\n",
      "1\n",
      "\n",
      "[[0. 0. 0. 0.]\n",
      " [0. 0. 0. 0.]\n",
      " [0. 0. 0. 0.]\n",
      " [0. 0. 0. 0.]\n",
      " [0. 0. 0. 0.]]\n",
      "2\n"
     ]
    }
   ],
   "source": [
    "arr1=np.zeros(4)\n",
    "\n",
    "arr2=np.zeros((5,4))\n",
    "\n",
    "print(arr1)\n",
    "print(arr1.ndim)\n",
    "\n",
    "print()\n",
    "\n",
    "print(arr2)\n",
    "print(arr2.ndim)"
   ]
  },
  {
   "cell_type": "markdown",
   "id": "d5e090a7-daed-43d9-b823-310ef4d53951",
   "metadata": {},
   "source": [
    "# Ones"
   ]
  },
  {
   "cell_type": "code",
   "execution_count": 58,
   "id": "b1ead16a-7fff-4120-bef9-6f3760418bdc",
   "metadata": {},
   "outputs": [
    {
     "name": "stdout",
     "output_type": "stream",
     "text": [
      "[1. 1. 1. 1. 1.]\n",
      "<class 'numpy.ndarray'>\n",
      "1\n"
     ]
    }
   ],
   "source": [
    "arr=np.ones(5)\n",
    "print(arr)\n",
    "print(type(arr))\n",
    "print(arr.ndim)"
   ]
  },
  {
   "cell_type": "code",
   "execution_count": 60,
   "id": "b4889374-fc04-4856-a538-44f23d6afab1",
   "metadata": {},
   "outputs": [
    {
     "name": "stdout",
     "output_type": "stream",
     "text": [
      "[[1. 1. 1. 1.]\n",
      " [1. 1. 1. 1.]\n",
      " [1. 1. 1. 1.]\n",
      " [1. 1. 1. 1.]\n",
      " [1. 1. 1. 1.]]\n",
      "<class 'numpy.ndarray'>\n",
      "2\n"
     ]
    }
   ],
   "source": [
    "arr=np.ones((5,4))\n",
    "print(arr)\n",
    "print(type(arr))\n",
    "print(arr.ndim)"
   ]
  },
  {
   "cell_type": "code",
   "execution_count": 62,
   "id": "e1e0fc2b-c32d-4d8d-9cf2-a20ce3c9c034",
   "metadata": {},
   "outputs": [
    {
     "name": "stdout",
     "output_type": "stream",
     "text": [
      "[[1. 1. 1. 1. 1.]\n",
      " [1. 1. 1. 1. 1.]\n",
      " [1. 1. 1. 1. 1.]\n",
      " [1. 1. 1. 1. 1.]\n",
      " [1. 1. 1. 1. 1.]]\n",
      "<class 'numpy.ndarray'>\n",
      "2\n"
     ]
    }
   ],
   "source": [
    "arr=np.ones((5,5))\n",
    "print(arr)\n",
    "print(type(arr))\n",
    "print(arr.ndim)"
   ]
  },
  {
   "cell_type": "markdown",
   "id": "92884e1c-3d7c-43fb-8172-e661a6e9dbf5",
   "metadata": {},
   "source": [
    "# Empty Array"
   ]
  },
  {
   "cell_type": "code",
   "execution_count": 63,
   "id": "0ea051a4-044a-47d1-8c92-373b084ffac8",
   "metadata": {},
   "outputs": [
    {
     "name": "stdout",
     "output_type": "stream",
     "text": [
      "[1. 1. 1. 1. 1.]\n",
      "<class 'numpy.ndarray'>\n",
      "1\n"
     ]
    }
   ],
   "source": [
    "arr=np.empty(5)\n",
    "print(arr)\n",
    "print(type(arr))\n",
    "print(arr.ndim)"
   ]
  },
  {
   "cell_type": "code",
   "execution_count": 65,
   "id": "fd125aca-9b2b-4112-940e-56a607bf65a2",
   "metadata": {},
   "outputs": [
    {
     "name": "stdout",
     "output_type": "stream",
     "text": [
      "[[1. 1. 1. 1. 1.]\n",
      " [1. 1. 1. 1. 1.]\n",
      " [1. 1. 1. 1. 1.]\n",
      " [1. 1. 1. 1. 1.]\n",
      " [1. 1. 1. 1. 1.]]\n",
      "<class 'numpy.ndarray'>\n",
      "2\n"
     ]
    }
   ],
   "source": [
    "arr=np.empty((5,5))\n",
    "print(arr)\n",
    "print(type(arr))\n",
    "print(arr.ndim)"
   ]
  },
  {
   "cell_type": "markdown",
   "id": "32575712-3046-4bdd-aeb9-895b25272fde",
   "metadata": {},
   "source": [
    "# Range"
   ]
  },
  {
   "cell_type": "code",
   "execution_count": 66,
   "id": "ac08fd4f-4df6-4d38-a5c2-83982dd5d898",
   "metadata": {},
   "outputs": [
    {
     "name": "stdout",
     "output_type": "stream",
     "text": [
      "[0 1 2 3 4]\n",
      "<class 'numpy.ndarray'>\n",
      "1\n"
     ]
    }
   ],
   "source": [
    "arr=np.arange(5)\n",
    "print(arr)\n",
    "print(type(arr))\n",
    "print(arr.ndim)"
   ]
  },
  {
   "cell_type": "code",
   "execution_count": 68,
   "id": "397ce058-2689-4db9-8d03-f8335ea14fd1",
   "metadata": {},
   "outputs": [
    {
     "name": "stdout",
     "output_type": "stream",
     "text": [
      "[0 1 2 3 4]\n",
      "<class 'numpy.ndarray'>\n",
      "1\n"
     ]
    }
   ],
   "source": [
    "arr=np.arange((5))\n",
    "print(arr)\n",
    "print(type(arr))\n",
    "print(arr.ndim)"
   ]
  },
  {
   "cell_type": "markdown",
   "id": "4ea4ac51-cc3f-46bd-970a-830bc56fdbac",
   "metadata": {},
   "source": [
    "# Diagonal Matrix"
   ]
  },
  {
   "cell_type": "code",
   "execution_count": 70,
   "id": "a64c4c29-1ae9-4d64-b15c-27ee38a8cfcb",
   "metadata": {},
   "outputs": [
    {
     "name": "stdout",
     "output_type": "stream",
     "text": [
      "[[1. 0. 0. 0. 0.]\n",
      " [0. 1. 0. 0. 0.]\n",
      " [0. 0. 1. 0. 0.]\n",
      " [0. 0. 0. 1. 0.]\n",
      " [0. 0. 0. 0. 1.]]\n",
      "<class 'numpy.ndarray'>\n",
      "2\n"
     ]
    }
   ],
   "source": [
    "arr=np.eye(5)\n",
    "print(arr)\n",
    "print(type(arr))\n",
    "print(arr.ndim)"
   ]
  },
  {
   "cell_type": "markdown",
   "id": "3bb93f2a-89ca-4ab9-9c65-e40f657d2ed3",
   "metadata": {},
   "source": [
    "# Linspace"
   ]
  },
  {
   "cell_type": "code",
   "execution_count": 73,
   "id": "3b27db45-a6a9-4125-916b-d4708fccdfae",
   "metadata": {},
   "outputs": [
    {
     "name": "stdout",
     "output_type": "stream",
     "text": [
      "[  5.  10.  15.  20.  25.  30.  35.  40.  45.  50.  55.  60.  65.  70.\n",
      "  75.  80.  85.  90.  95. 100.]\n",
      "<class 'numpy.ndarray'>\n",
      "1\n"
     ]
    }
   ],
   "source": [
    "arr=np.linspace(5,100,num=20)\n",
    "print(arr)\n",
    "print(type(arr))\n",
    "print(arr.ndim)"
   ]
  },
  {
   "cell_type": "markdown",
   "id": "b40b9303-11bd-460a-8b94-087c43cb419e",
   "metadata": {},
   "source": [
    "# Create NumPy Array with Random Numbers"
   ]
  },
  {
   "cell_type": "markdown",
   "id": "689e5c5a-68b6-4788-bd05-d2b6fc433e5c",
   "metadata": {},
   "source": [
    "## Rand"
   ]
  },
  {
   "cell_type": "markdown",
   "id": "fa524202-ea57-4e71-9b75-7749324dd894",
   "metadata": {},
   "source": [
    "b/w to 0 to 1"
   ]
  },
  {
   "cell_type": "code",
   "execution_count": 82,
   "id": "4f742cd9-1528-4a83-a535-ba85e996258e",
   "metadata": {},
   "outputs": [
    {
     "name": "stdout",
     "output_type": "stream",
     "text": [
      "[[0.94657912 0.43243859 0.87427372 0.70044959 0.98739576 0.45204305\n",
      "  0.82816273 0.42692407 0.59163246 0.40257903]\n",
      " [0.24629847 0.83070521 0.90147442 0.52396029 0.71847173 0.55955311\n",
      "  0.21074268 0.79706649 0.03605004 0.95355228]\n",
      " [0.45867286 0.98627605 0.13299333 0.71951901 0.59867505 0.27873831\n",
      "  0.14849064 0.45663365 0.62441767 0.87021991]\n",
      " [0.02547583 0.16598566 0.47259519 0.94607087 0.72048487 0.47498217\n",
      "  0.95390999 0.40821638 0.47005215 0.10640261]]\n",
      "<class 'numpy.ndarray'>\n",
      "2\n"
     ]
    }
   ],
   "source": [
    "arr=np.random.rand(4,10)\n",
    "print(arr)\n",
    "print(type(arr))\n",
    "print(arr.ndim)"
   ]
  },
  {
   "cell_type": "markdown",
   "id": "e34497be-6535-4a25-ae04-ce88ed37bc15",
   "metadata": {},
   "source": [
    "# Randn"
   ]
  },
  {
   "cell_type": "raw",
   "id": "db8cd167-ad52-41a1-9334-6c06d901061f",
   "metadata": {},
   "source": [
    "Close to zero and +ve or -ve"
   ]
  },
  {
   "cell_type": "code",
   "execution_count": 84,
   "id": "314da290-1115-4f8f-b382-bb2b4431d405",
   "metadata": {},
   "outputs": [
    {
     "name": "stdout",
     "output_type": "stream",
     "text": [
      "[[-0.84443668 -0.47205153 -1.37987584  0.89431109]\n",
      " [-0.02418255 -0.89781961 -0.88149159 -0.56675164]\n",
      " [ 0.18402996  1.12891348  1.24709986 -2.07728286]\n",
      " [-1.71397769 -0.08357193  0.0158125  -0.80753826]]\n",
      "<class 'numpy.ndarray'>\n",
      "2\n"
     ]
    }
   ],
   "source": [
    "arr=np.random.randn(4,4)\n",
    "print(arr)\n",
    "print(type(arr))\n",
    "print(arr.ndim)"
   ]
  },
  {
   "cell_type": "markdown",
   "id": "b43c193e-be0a-4479-807f-a2f02f054d96",
   "metadata": {},
   "source": [
    "# Ranf"
   ]
  },
  {
   "cell_type": "markdown",
   "id": "81c8f2e1-7cb9-4793-8e03-d528965317ef",
   "metadata": {},
   "source": [
    "Return array [0.0,1.0)"
   ]
  },
  {
   "cell_type": "code",
   "execution_count": 86,
   "id": "1a63e0dd-6fb4-480c-8f9a-534cb226f2d0",
   "metadata": {},
   "outputs": [
    {
     "name": "stdout",
     "output_type": "stream",
     "text": [
      "[[0.09396494 0.33810578 0.5776877  0.51599778]\n",
      " [0.96428278 0.79131438 0.93058441 0.03096305]\n",
      " [0.10851858 0.43725744 0.88531351 0.36563806]]\n",
      "<class 'numpy.ndarray'>\n",
      "2\n"
     ]
    }
   ],
   "source": [
    "arr=np.random.ranf((3,4))\n",
    "print(arr)\n",
    "print(type(arr))\n",
    "print(arr.ndim)"
   ]
  },
  {
   "cell_type": "markdown",
   "id": "5293f8d8-8c4a-4a31-ae2c-7247eb216fcd",
   "metadata": {},
   "source": [
    "# Randint"
   ]
  },
  {
   "cell_type": "markdown",
   "id": "3caf6cc9-b222-474e-9833-d91878b19eae",
   "metadata": {},
   "source": [
    "Generate number will be a give range."
   ]
  },
  {
   "cell_type": "code",
   "execution_count": 91,
   "id": "b4f0fded-8894-4f19-ad25-fd3cb2719099",
   "metadata": {},
   "outputs": [
    {
     "name": "stdout",
     "output_type": "stream",
     "text": [
      "[30 10 27 17 38 48 21 23 12 19]\n",
      "<class 'numpy.ndarray'>\n",
      "1\n"
     ]
    }
   ],
   "source": [
    "arr=np.random.randint(10,50,10)\n",
    "print(arr)\n",
    "print(type(arr))\n",
    "print(arr.ndim)"
   ]
  },
  {
   "cell_type": "markdown",
   "id": "1559e04b-7f1a-474a-9778-b459a9ee4efe",
   "metadata": {},
   "source": [
    "# Data Types in NumPy Arrays"
   ]
  },
  {
   "cell_type": "code",
   "execution_count": 92,
   "id": "4b51c542-6000-40a0-97ed-afec6a00362a",
   "metadata": {},
   "outputs": [
    {
     "name": "stdout",
     "output_type": "stream",
     "text": [
      "int32\n",
      "<class 'numpy.ndarray'>\n",
      "1\n"
     ]
    }
   ],
   "source": [
    "arr=np.array([23,32,45,56,78,89])\n",
    "print(arr.dtype)\n",
    "print(type(arr))\n",
    "print(arr.ndim)"
   ]
  },
  {
   "cell_type": "code",
   "execution_count": 99,
   "id": "5c6dafff-a7ae-42d2-9b39-8508007cdb72",
   "metadata": {},
   "outputs": [
    {
     "name": "stdout",
     "output_type": "stream",
     "text": [
      "float64\n",
      "<class 'numpy.ndarray'>\n",
      "1\n"
     ]
    }
   ],
   "source": [
    "arr=np.array([3,2.5])\n",
    "print(arr)\n",
    "print(arr.dtype)\n",
    "print(type(arr))\n",
    "print(arr.ndim)"
   ]
  },
  {
   "cell_type": "code",
   "execution_count": 101,
   "id": "0f213fa3-1165-410e-8480-f15589840550",
   "metadata": {},
   "outputs": [
    {
     "name": "stdout",
     "output_type": "stream",
     "text": [
      "['23' '32' '45' '56' '78' '89' 'Birbal']\n",
      "<U11\n",
      "<class 'numpy.ndarray'>\n",
      "1\n"
     ]
    }
   ],
   "source": [
    "arr=np.array([23,32,45,56,78,89,\"Birbal\"])\n",
    "print(arr)\n",
    "print(arr.dtype)\n",
    "print(type(arr))\n",
    "print(arr.ndim)"
   ]
  },
  {
   "cell_type": "markdown",
   "id": "2eb16e99-d5bd-4266-96ed-d486cf9a83ba",
   "metadata": {},
   "source": [
    "# Shape & Reshaping in NumPy Arrays"
   ]
  },
  {
   "cell_type": "markdown",
   "id": "820c2c43-c61b-493e-8dd1-161ea8fdf91b",
   "metadata": {},
   "source": [
    "### Shape"
   ]
  },
  {
   "cell_type": "code",
   "execution_count": 105,
   "id": "bb67bb57-f095-4efd-bfc5-fadd775f4024",
   "metadata": {},
   "outputs": [
    {
     "name": "stdout",
     "output_type": "stream",
     "text": [
      "[[[ 12  21  34  54  56]\n",
      "  [ 43  56  78 998  65]]]\n",
      "order is:  (1, 2, 5)\n",
      "<class 'numpy.ndarray'>\n",
      "3\n"
     ]
    }
   ],
   "source": [
    "arr=np.array([[12,21,34,54,56],[43,56,78,998,65]],ndmin=3)\n",
    "print(arr)\n",
    "print(\"order is: \",arr.shape)\n",
    "print(type(arr))\n",
    "print(arr.ndim)"
   ]
  },
  {
   "cell_type": "markdown",
   "id": "bc12eb14-4c7b-4248-b8fb-25b7bb96cafa",
   "metadata": {},
   "source": [
    "### Reshaping"
   ]
  },
  {
   "cell_type": "code",
   "execution_count": 107,
   "id": "2559b95b-7c50-4a5d-b523-824b34ece456",
   "metadata": {},
   "outputs": [
    {
     "name": "stdout",
     "output_type": "stream",
     "text": [
      "[[12 32 45]\n",
      " [65 78 87]]\n"
     ]
    }
   ],
   "source": [
    "arr=np.array([12,32,45,65,78,87])\n",
    "y=arr.reshape(2,3)\n",
    "print(y)"
   ]
  },
  {
   "cell_type": "markdown",
   "id": "9f2da385-e508-4111-bef2-3f6855585001",
   "metadata": {},
   "source": [
    "# Arithmetic Operation in NumPy Arrays"
   ]
  },
  {
   "cell_type": "code",
   "execution_count": 7,
   "id": "429248d2-537d-425f-94c7-217fe6754a81",
   "metadata": {},
   "outputs": [
    {
     "name": "stdout",
     "output_type": "stream",
     "text": [
      "[12 43 54 67]\n",
      "\n",
      "[ 1 65 52 68]\n",
      "addition is:  [ 13 108 106 135]\n"
     ]
    }
   ],
   "source": [
    "import numpy as np\n",
    "var1=np.array([12,43,54,67])\n",
    "var2=np.array([1,65,52,68])\n",
    "print(var1)\n",
    "print()\n",
    "print(var2)\n",
    "\n",
    "print(\"addition is: \",var1+var2)\n",
    "\n"
   ]
  },
  {
   "cell_type": "code",
   "execution_count": 3,
   "id": "df94fa8a-254b-4efe-860a-5e6e2c0e515e",
   "metadata": {},
   "outputs": [
    {
     "name": "stdout",
     "output_type": "stream",
     "text": [
      "multip. is:  [ 648 2795 2808 4556]\n"
     ]
    }
   ],
   "source": [
    "print(\"multip. is: \",var1*var2)"
   ]
  },
  {
   "cell_type": "code",
   "execution_count": 4,
   "id": "ae1965a7-b038-48ff-8b66-a446fc8f8da8",
   "metadata": {},
   "outputs": [
    {
     "name": "stdout",
     "output_type": "stream",
     "text": [
      "[2 3 4 2]\n"
     ]
    }
   ],
   "source": [
    "Birbal=var1%5\n",
    "print(Birbal)"
   ]
  },
  {
   "cell_type": "code",
   "execution_count": 8,
   "id": "a1fd9ac6-0afb-48d5-8346-7085e8adb3fc",
   "metadata": {},
   "outputs": [
    {
     "name": "stdout",
     "output_type": "stream",
     "text": [
      "[1 0 0 0]\n"
     ]
    }
   ],
   "source": [
    "rec=np.reciprocal(var2)\n",
    "print(rec)"
   ]
  },
  {
   "cell_type": "markdown",
   "id": "a1fd07d5-8b17-4a12-9194-a13a03215019",
   "metadata": {},
   "source": [
    "# 2D array"
   ]
  },
  {
   "cell_type": "code",
   "execution_count": 9,
   "id": "586c6194-3cd7-4a41-a02c-c915b6962def",
   "metadata": {},
   "outputs": [
    {
     "name": "stdout",
     "output_type": "stream",
     "text": [
      "[[ 5  5  5  5]\n",
      " [14 14 14 15]]\n"
     ]
    }
   ],
   "source": [
    "var1=np.array([[1,2,3,4],[5,6,7,8]])\n",
    "var2=np.array([[4,3,2,1],[9,8,7,7]])\n",
    "print(var1+var2)"
   ]
  },
  {
   "cell_type": "markdown",
   "id": "38cc55aa-9875-4a37-9de4-3a6c6b713fa0",
   "metadata": {},
   "source": [
    "# Arithmetic Function"
   ]
  },
  {
   "cell_type": "code",
   "execution_count": 12,
   "id": "3a147e8a-38c4-487e-8526-27c4e8a23ae1",
   "metadata": {},
   "outputs": [
    {
     "name": "stdout",
     "output_type": "stream",
     "text": [
      "Minimum ele:  -78\n"
     ]
    }
   ],
   "source": [
    "x=np.array([23,43,56,75,-78])\n",
    "print(\"Minimum ele: \",np.min(x))"
   ]
  },
  {
   "cell_type": "code",
   "execution_count": 20,
   "id": "05306319-addb-4217-98dc-94d2b5970414",
   "metadata": {},
   "outputs": [
    {
     "name": "stdout",
     "output_type": "stream",
     "text": [
      "Maximum ele:  75\n",
      "sqrt:  [4.79583152 6.55743852 7.48331477 8.66025404        nan]\n"
     ]
    },
    {
     "name": "stderr",
     "output_type": "stream",
     "text": [
      "C:\\Users\\birba\\AppData\\Local\\Temp\\ipykernel_25264\\459668609.py:2: RuntimeWarning: invalid value encountered in sqrt\n",
      "  print(\"sqrt: \",np.sqrt(x))\n"
     ]
    }
   ],
   "source": [
    "print(\"Maximum ele: \",np.max(x))\n",
    "print(\"sqrt: \",np.sqrt(x))"
   ]
  },
  {
   "cell_type": "code",
   "execution_count": 15,
   "id": "1f70bdbf-4cf1-4c45-b9ac-326f670e8548",
   "metadata": {},
   "outputs": [
    {
     "name": "stdout",
     "output_type": "stream",
     "text": [
      "Maximum ele:  75 3\n",
      "Minimum ele:  -78 4\n"
     ]
    }
   ],
   "source": [
    "print(\"Maximum ele: \",np.max(x),np.argmax(x))\n",
    "print(\"Minimum ele: \",np.min(x),np.argmin(x))"
   ]
  },
  {
   "cell_type": "code",
   "execution_count": 18,
   "id": "12413cee-9367-4e5e-8d6f-bf1446c4f466",
   "metadata": {},
   "outputs": [
    {
     "name": "stdout",
     "output_type": "stream",
     "text": [
      "[1 2 3 4]\n"
     ]
    }
   ],
   "source": [
    "y=np.array([[1,2,3,4],[8,7,6,5]])\n",
    "print(np.min(y,axis=0))"
   ]
  },
  {
   "cell_type": "code",
   "execution_count": 21,
   "id": "ec281155-8a57-4c75-a457-850e6605da02",
   "metadata": {},
   "outputs": [
    {
     "name": "stdout",
     "output_type": "stream",
     "text": [
      "[-0.8462204  -0.83177474 -0.521551   -0.38778164 -0.51397846]\n"
     ]
    }
   ],
   "source": [
    "print(np.sin(x))"
   ]
  },
  {
   "cell_type": "code",
   "execution_count": 22,
   "id": "2560fd79-eff6-4906-997b-e25cc8df8191",
   "metadata": {},
   "outputs": [
    {
     "name": "stdout",
     "output_type": "stream",
     "text": [
      "[-0.53283302  0.5551133   0.85322011  0.92175127 -0.85780309]\n"
     ]
    }
   ],
   "source": [
    "print(np.cos(x))"
   ]
  },
  {
   "cell_type": "code",
   "execution_count": 23,
   "id": "5c170df5-5569-4a41-956e-f3032b6667d8",
   "metadata": {},
   "outputs": [
    {
     "name": "stdout",
     "output_type": "stream",
     "text": [
      "[ 1.58815308 -1.49838734 -0.61127369 -0.42070095  0.59918   ]\n"
     ]
    }
   ],
   "source": [
    "print(np.tan(x))"
   ]
  },
  {
   "cell_type": "markdown",
   "id": "7d1806a7-c84a-4818-8540-37482fec2ea8",
   "metadata": {},
   "source": [
    "# Broadcasting Numpy arrays"
   ]
  },
  {
   "cell_type": "raw",
   "id": "bb4e381e-3f1d-4280-a4a6-a166ee739447",
   "metadata": {},
   "source": [
    "must be same dimension"
   ]
  },
  {
   "cell_type": "code",
   "execution_count": 28,
   "id": "ffcb981d-ce2f-4e36-8f42-457777fb5a2d",
   "metadata": {},
   "outputs": [
    {
     "ename": "ValueError",
     "evalue": "operands could not be broadcast together with shapes (5,) (4,) ",
     "output_type": "error",
     "traceback": [
      "\u001b[1;31m---------------------------------------------------------------------------\u001b[0m",
      "\u001b[1;31mValueError\u001b[0m                                Traceback (most recent call last)",
      "Cell \u001b[1;32mIn[28], line 4\u001b[0m\n\u001b[0;32m      2\u001b[0m v1\u001b[38;5;241m=\u001b[39mnp\u001b[38;5;241m.\u001b[39marray([\u001b[38;5;241m12\u001b[39m,\u001b[38;5;241m33\u001b[39m,\u001b[38;5;241m44\u001b[39m,\u001b[38;5;241m54\u001b[39m,\u001b[38;5;241m65\u001b[39m])\n\u001b[0;32m      3\u001b[0m v2\u001b[38;5;241m=\u001b[39mnp\u001b[38;5;241m.\u001b[39marray([\u001b[38;5;241m43\u001b[39m,\u001b[38;5;241m56\u001b[39m,\u001b[38;5;241m76\u001b[39m,\u001b[38;5;241m87\u001b[39m])\n\u001b[1;32m----> 4\u001b[0m \u001b[38;5;28mprint\u001b[39m(\u001b[43mv1\u001b[49m\u001b[38;5;241;43m+\u001b[39;49m\u001b[43mv2\u001b[49m)\n",
      "\u001b[1;31mValueError\u001b[0m: operands could not be broadcast together with shapes (5,) (4,) "
     ]
    }
   ],
   "source": [
    "import numpy as np\n",
    "v1=np.array([12,33,44,54,65])\n",
    "v2=np.array([43,56,76,87])\n",
    "print(v1+v2)"
   ]
  },
  {
   "cell_type": "markdown",
   "id": "643f90a6-647a-42f1-aca6-35934286dee2",
   "metadata": {},
   "source": [
    "#### shape"
   ]
  },
  {
   "cell_type": "code",
   "execution_count": 29,
   "id": "597f10d9-27d7-4d53-9d28-08fc932725c4",
   "metadata": {},
   "outputs": [
    {
     "name": "stdout",
     "output_type": "stream",
     "text": [
      "(4,)\n"
     ]
    }
   ],
   "source": [
    "var2=np.array([23,45,65,56])\n",
    "print(var2.shape)"
   ]
  },
  {
   "cell_type": "code",
   "execution_count": 30,
   "id": "17e24bf5-09b0-48ed-8058-259852bb9962",
   "metadata": {},
   "outputs": [
    {
     "name": "stdout",
     "output_type": "stream",
     "text": [
      "(2, 4)\n"
     ]
    }
   ],
   "source": [
    "var2=np.array([[23,45,65,56],[43,55,76,78]])  # first is row and second is columns\n",
    "print(var2.shape)"
   ]
  },
  {
   "cell_type": "markdown",
   "id": "e9385f84-9669-4991-896f-69403db293eb",
   "metadata": {},
   "source": [
    "# Indexing NumPy Array"
   ]
  },
  {
   "cell_type": "code",
   "execution_count": 31,
   "id": "5ea236af-af6c-4a25-babc-4cfec9bfc104",
   "metadata": {},
   "outputs": [
    {
     "name": "stdout",
     "output_type": "stream",
     "text": [
      "7\n"
     ]
    }
   ],
   "source": [
    "v1=np.array([34323,5434,6,7])\n",
    "print(v1[3])"
   ]
  },
  {
   "cell_type": "code",
   "execution_count": 32,
   "id": "c1c9cc87-2fe8-47cc-816b-bb31b2e289d5",
   "metadata": {},
   "outputs": [
    {
     "name": "stdout",
     "output_type": "stream",
     "text": [
      "5434\n"
     ]
    }
   ],
   "source": [
    "print(v1[-3])"
   ]
  },
  {
   "cell_type": "code",
   "execution_count": 33,
   "id": "0fcaac82-a035-4d01-a976-9f88ab1e9df3",
   "metadata": {},
   "outputs": [
    {
     "name": "stdout",
     "output_type": "stream",
     "text": [
      "[[34323  5434     6     7]\n",
      " [   23    54     5    65]]\n",
      "\n",
      "2\n",
      "\n",
      "5434\n"
     ]
    }
   ],
   "source": [
    "v1=np.array([[34323,5434,6,7],[23,54,5,65]])\n",
    "print(v1)\n",
    "print()\n",
    "print(v1.ndim)\n",
    "print()\n",
    "print(v1[0,1])"
   ]
  },
  {
   "cell_type": "code",
   "execution_count": 35,
   "id": "c404ef9e-6de0-4a0d-9564-6889a7174873",
   "metadata": {},
   "outputs": [
    {
     "name": "stdout",
     "output_type": "stream",
     "text": [
      "[[34323  5434     6     7]\n",
      " [   23    54     5    65]\n",
      " [   23    54    66    77]]\n",
      "\n",
      "2\n",
      "\n",
      "66\n"
     ]
    }
   ],
   "source": [
    "v1=np.array([[34323,5434,6,7],[23,54,5,65],[23,54,66,77]])\n",
    "print(v1)\n",
    "print()\n",
    "print(v1.ndim)\n",
    "print()\n",
    "print(v1[2,2])"
   ]
  },
  {
   "cell_type": "markdown",
   "id": "21f91941-328f-4479-b755-96f68b0a02a2",
   "metadata": {},
   "source": [
    "# Slicing NumPy array"
   ]
  },
  {
   "cell_type": "code",
   "execution_count": 36,
   "id": "d8964a84-0dfc-4d84-8811-61956a3abdf1",
   "metadata": {},
   "outputs": [
    {
     "name": "stdout",
     "output_type": "stream",
     "text": [
      "[ 2  3  4  3 65  6 75]\n",
      "\n",
      "2 to 5 [ 3  4  3 65]\n"
     ]
    }
   ],
   "source": [
    "import numpy as np\n",
    "v1=np.array([2,3,4,3,65,6,75])\n",
    "print(v1)\n",
    "print()\n",
    "\n",
    "print(\"2 to 5\",v1[1:5])"
   ]
  },
  {
   "cell_type": "code",
   "execution_count": 37,
   "id": "a09d9c6c-4792-48be-a8a7-3f754cd94778",
   "metadata": {},
   "outputs": [
    {
     "name": "stdout",
     "output_type": "stream",
     "text": [
      "[ 2  3  4  3 65  6 75]\n",
      "\n",
      "2 to 5 [3 3]\n"
     ]
    }
   ],
   "source": [
    "v1=np.array([2,3,4,3,65,6,75])\n",
    "print(v1)\n",
    "print()\n",
    "\n",
    "print(\"2 to 5\",v1[1:5:2])"
   ]
  },
  {
   "cell_type": "code",
   "execution_count": 38,
   "id": "0134ce28-bd1a-4bf0-8be3-4477896e82b5",
   "metadata": {},
   "outputs": [
    {
     "name": "stdout",
     "output_type": "stream",
     "text": [
      "[ 2  3  4  3 65  6 75]\n",
      "\n",
      "2 to 5 [ 3  4  3 65  6 75]\n"
     ]
    }
   ],
   "source": [
    "v1=np.array([2,3,4,3,65,6,75])\n",
    "print(v1)\n",
    "print()\n",
    "\n",
    "print(\"2 to 5\",v1[1:])"
   ]
  },
  {
   "cell_type": "code",
   "execution_count": 39,
   "id": "c06a27d7-6853-46fb-9427-cbf4d87f266b",
   "metadata": {},
   "outputs": [
    {
     "name": "stdout",
     "output_type": "stream",
     "text": [
      "[ 2  3  4  3 65  6 75]\n",
      "\n",
      "2 to 5 [ 2  3  4  3 65]\n"
     ]
    }
   ],
   "source": [
    "v1=np.array([2,3,4,3,65,6,75])\n",
    "print(v1)\n",
    "print()\n",
    "\n",
    "print(\"2 to 5\",v1[:5])"
   ]
  },
  {
   "cell_type": "code",
   "execution_count": 40,
   "id": "5e111beb-ea82-4987-9180-0b805bd69d24",
   "metadata": {},
   "outputs": [
    {
     "name": "stdout",
     "output_type": "stream",
     "text": [
      "[ 2  3  4  3 65  6 75]\n",
      "\n",
      "2 to 5 [ 2  3 75]\n"
     ]
    }
   ],
   "source": [
    "v1=np.array([2,3,4,3,65,6,75])\n",
    "print(v1)\n",
    "print()\n",
    "\n",
    "print(\"2 to 5\",v1[::3])"
   ]
  },
  {
   "cell_type": "code",
   "execution_count": 42,
   "id": "e501f70b-c71a-4718-8c97-f0a96a9198d4",
   "metadata": {},
   "outputs": [
    {
     "name": "stdout",
     "output_type": "stream",
     "text": [
      "[[ 2  3  4  3]\n",
      " [23 45 66 77]\n",
      " [56 78 98 65]]\n",
      "\n",
      "[45 66 77]\n"
     ]
    }
   ],
   "source": [
    "v1=np.array([[2,3,4,3],[23,45,66,77],[56,78,98,65]])\n",
    "print(v1)\n",
    "print()\n",
    "\n",
    "print(v1[1,1:])"
   ]
  },
  {
   "cell_type": "markdown",
   "id": "2ac0f5df-f946-48de-aa07-48f8aaadcead",
   "metadata": {},
   "source": [
    "# Iterating NumPy Array"
   ]
  },
  {
   "cell_type": "code",
   "execution_count": 44,
   "id": "9e85b7fe-f1ee-42ce-9209-591ad3dd9c09",
   "metadata": {},
   "outputs": [
    {
     "name": "stdout",
     "output_type": "stream",
     "text": [
      "[[ 2  3  4  3]\n",
      " [23 45 66 77]\n",
      " [56 78 98 65]]\n"
     ]
    }
   ],
   "source": [
    "v1=np.array([[[2,3,4,3],[23,45,66,77],[56,78,98,65]]])\n",
    "for i in v1:\n",
    "    print(i)"
   ]
  },
  {
   "cell_type": "code",
   "execution_count": 3,
   "id": "bc3a9592-aefa-446b-913d-b7bb6240c964",
   "metadata": {},
   "outputs": [
    {
     "ename": "TypeError",
     "evalue": "Field elements must be 2- or 3-tuples, got ''s''",
     "output_type": "error",
     "traceback": [
      "\u001b[1;31m---------------------------------------------------------------------------\u001b[0m",
      "\u001b[1;31mTypeError\u001b[0m                                 Traceback (most recent call last)",
      "Cell \u001b[1;32mIn[3], line 3\u001b[0m\n\u001b[0;32m      1\u001b[0m \u001b[38;5;28;01mimport\u001b[39;00m \u001b[38;5;21;01mnumpy\u001b[39;00m \u001b[38;5;28;01mas\u001b[39;00m \u001b[38;5;21;01mnp\u001b[39;00m\n\u001b[0;32m      2\u001b[0m v1\u001b[38;5;241m=\u001b[39mnp\u001b[38;5;241m.\u001b[39marray([[[\u001b[38;5;241m2\u001b[39m,\u001b[38;5;241m3\u001b[39m,\u001b[38;5;241m4\u001b[39m,\u001b[38;5;241m3\u001b[39m],[\u001b[38;5;241m23\u001b[39m,\u001b[38;5;241m45\u001b[39m,\u001b[38;5;241m66\u001b[39m,\u001b[38;5;241m77\u001b[39m],[\u001b[38;5;241m56\u001b[39m,\u001b[38;5;241m78\u001b[39m,\u001b[38;5;241m98\u001b[39m,\u001b[38;5;241m65\u001b[39m]]])\n\u001b[1;32m----> 3\u001b[0m \u001b[38;5;28;01mfor\u001b[39;00m i \u001b[38;5;129;01min\u001b[39;00m \u001b[43mnp\u001b[49m\u001b[38;5;241;43m.\u001b[39;49m\u001b[43mnditer\u001b[49m\u001b[43m(\u001b[49m\u001b[43mv1\u001b[49m\u001b[43m,\u001b[49m\u001b[43mflags\u001b[49m\u001b[38;5;241;43m=\u001b[39;49m\u001b[43m[\u001b[49m\u001b[38;5;124;43m'\u001b[39;49m\u001b[38;5;124;43mbuffered\u001b[39;49m\u001b[38;5;124;43m'\u001b[39;49m\u001b[43m]\u001b[49m\u001b[43m,\u001b[49m\u001b[43mop_dtypes\u001b[49m\u001b[38;5;241;43m=\u001b[39;49m\u001b[43m[\u001b[49m\u001b[38;5;124;43m\"\u001b[39;49m\u001b[38;5;124;43ms\u001b[39;49m\u001b[38;5;124;43m\"\u001b[39;49m\u001b[43m]\u001b[49m\u001b[43m)\u001b[49m:\n\u001b[0;32m      4\u001b[0m     \u001b[38;5;28mprint\u001b[39m(i)\n",
      "\u001b[1;31mTypeError\u001b[0m: Field elements must be 2- or 3-tuples, got ''s''"
     ]
    }
   ],
   "source": [
    "import numpy as np\n",
    "v1=np.array([[[2,3,4,3],[23,45,66,77],[56,78,98,65]]])\n",
    "for i in np.nditer(v1,flags=['buffered'],op_dtypes=[\"s\"]):\n",
    "    print(i)"
   ]
  },
  {
   "cell_type": "markdown",
   "id": "7c45eac3-8ae0-49ac-a4c0-f30f08cedb33",
   "metadata": {},
   "source": [
    "# Copy and View in Numpy Arrays"
   ]
  },
  {
   "cell_type": "markdown",
   "id": "e31de692-820d-4009-8046-568a074641d5",
   "metadata": {},
   "source": [
    "copy means, it is not change original array but view is change original arrays"
   ]
  },
  {
   "cell_type": "code",
   "execution_count": 7,
   "id": "c467a4f4-ca8b-4627-a049-cea31d6c9771",
   "metadata": {},
   "outputs": [
    {
     "name": "stdout",
     "output_type": "stream",
     "text": [
      "<class 'numpy.ndarray'>\n",
      "[12 32 44 56]\n",
      " \n",
      "[ 12  32  44 500]\n"
     ]
    }
   ],
   "source": [
    "var=np.array([12,32,44,56])\n",
    "print(type(var))\n",
    "print(var)\n",
    "print(\" \")\n",
    "co=var.copy()\n",
    "co[3]=500\n",
    "print(co)"
   ]
  },
  {
   "cell_type": "code",
   "execution_count": 9,
   "id": "49f74624-7523-43a2-9186-38e60ddb5671",
   "metadata": {},
   "outputs": [
    {
     "name": "stdout",
     "output_type": "stream",
     "text": [
      "original array: [ 23  43 100 765]\n",
      "change array:  [ 23  43 100 765]\n",
      "\n",
      "Now original array is change: [ 23  43 100 765]\n"
     ]
    }
   ],
   "source": [
    "var2=np.array([23,43,56,765])\n",
    "vie=var2.view()\n",
    "vie[2]=100\n",
    "\n",
    "print(\"original array:\",var2)\n",
    "print(\"change array: \",vie)\n",
    "print()\n",
    "print(\"Now original array is change:\",var2)"
   ]
  },
  {
   "cell_type": "markdown",
   "id": "8d07e897-ccf7-4520-b4a2-af68fac6cdc6",
   "metadata": {},
   "source": [
    "# Join & Split Function in Numpy Arrays\n"
   ]
  },
  {
   "cell_type": "markdown",
   "id": "abb9c86f-c325-4ca3-874d-fb5ecda61519",
   "metadata": {},
   "source": [
    "Join means, it add two or more array\n",
    "and Split means break array"
   ]
  },
  {
   "cell_type": "code",
   "execution_count": 15,
   "id": "1963b68b-29e1-4cd0-864a-415cd617a048",
   "metadata": {},
   "outputs": [
    {
     "name": "stdout",
     "output_type": "stream",
     "text": [
      "[ 12  32 345  32  34  54  56  76]\n"
     ]
    }
   ],
   "source": [
    "var1=np.array([12,32,345,32])\n",
    "var2=np.array([34,54,56,76])\n",
    "arr=np.concatenate((var1,var2))\n",
    "print(arr)"
   ]
  },
  {
   "cell_type": "code",
   "execution_count": 16,
   "id": "f7303d1c-6e31-495d-9f9f-5331c6353739",
   "metadata": {},
   "outputs": [
    {
     "name": "stdout",
     "output_type": "stream",
     "text": [
      "[[ 12  32 345  32  34  54  56  76]\n",
      " [ 23  54  67  65  34  65 655  66]]\n"
     ]
    }
   ],
   "source": [
    "var1=np.array([[12,32,345,32],[23,54,67,65]])\n",
    "var2=np.array([[34,54,56,76],[34,65,655,66]])\n",
    "arr=np.concatenate((var1,var2),axis=1)\n",
    "print(arr)"
   ]
  },
  {
   "cell_type": "markdown",
   "id": "a4ead0f5-ec74-4f20-b5c9-97238fd3240e",
   "metadata": {},
   "source": [
    "# Split Array"
   ]
  },
  {
   "cell_type": "code",
   "execution_count": 20,
   "id": "7f22df7f-4395-4f12-b221-288b2dcd6a98",
   "metadata": {},
   "outputs": [
    {
     "name": "stdout",
     "output_type": "stream",
     "text": [
      "[88 89]\n",
      "[array([12, 33, 45]), array([66, 78]), array([88, 89]), array([ 9, 43])]\n"
     ]
    }
   ],
   "source": [
    "arr=np.array([12,33,45,66,78,88,89,9,43])\n",
    "newa=np.array_split(arr,4)\n",
    "print(newa[2])\n",
    "print(newa)"
   ]
  },
  {
   "cell_type": "markdown",
   "id": "83b9011b-9488-4425-b0b7-8c9c45ae8244",
   "metadata": {},
   "source": [
    "## Search,sort,search sorted,Filter"
   ]
  },
  {
   "cell_type": "code",
   "execution_count": 24,
   "id": "bf19be8d-365b-4922-88db-cdec55d8f934",
   "metadata": {},
   "outputs": [
    {
     "name": "stdout",
     "output_type": "stream",
     "text": [
      "(array([2, 4, 5, 6, 7, 8], dtype=int64),)\n"
     ]
    }
   ],
   "source": [
    "arr=np.array([23,2,45,6,76,766,55,89,90])\n",
    "x=np.where(arr>23)\n",
    "print(x)"
   ]
  },
  {
   "cell_type": "code",
   "execution_count": 25,
   "id": "f5ebe680-fbf0-4064-9ce0-3fda31d888f6",
   "metadata": {},
   "outputs": [
    {
     "name": "stdout",
     "output_type": "stream",
     "text": [
      "(array([2, 6, 8], dtype=int64),)\n"
     ]
    }
   ],
   "source": [
    "y=np.where(arr%5==0)\n",
    "print(y)"
   ]
  },
  {
   "cell_type": "markdown",
   "id": "898d70af-f82f-4527-8d0a-12601c724735",
   "metadata": {},
   "source": [
    "### sort"
   ]
  },
  {
   "cell_type": "code",
   "execution_count": 26,
   "id": "e4149bc6-7567-4df2-9029-e4a818fd7326",
   "metadata": {},
   "outputs": [
    {
     "name": "stdout",
     "output_type": "stream",
     "text": [
      "[  2   6  23  45  55  76  89  90 766]\n"
     ]
    }
   ],
   "source": [
    "z=np.sort(arr)\n",
    "print(z)"
   ]
  },
  {
   "cell_type": "code",
   "execution_count": 31,
   "id": "ed2e6f52-b6b1-4d2b-86ec-01a1583c621f",
   "metadata": {},
   "outputs": [
    {
     "name": "stdout",
     "output_type": "stream",
     "text": [
      "[[[  3   4  21]\n",
      "  [  7   8  15]\n",
      "  [ 87  98 562]]]\n"
     ]
    }
   ],
   "source": [
    "ar=np.array([[[21,3,4],[15,7,8],[562,87,98]]])\n",
    "print(np.sort(ar))\n"
   ]
  },
  {
   "cell_type": "code",
   "execution_count": 29,
   "id": "270b940e-54c6-48f6-9daf-03e8ed6e5389",
   "metadata": {},
   "outputs": [
    {
     "name": "stdout",
     "output_type": "stream",
     "text": [
      "['a' 'b' 'b' 'i' 'l' 'r']\n"
     ]
    }
   ],
   "source": [
    "str=np.array(['b','i','r','b','a','l'])\n",
    "print(np.sort(str))"
   ]
  },
  {
   "cell_type": "markdown",
   "id": "b944ad6f-52c6-451e-95c3-b783354affda",
   "metadata": {},
   "source": [
    "## Filter"
   ]
  },
  {
   "cell_type": "code",
   "execution_count": 33,
   "id": "273644ce-2dda-4346-b481-990003d894ca",
   "metadata": {},
   "outputs": [
    {
     "name": "stdout",
     "output_type": "stream",
     "text": [
      "['b' 'b' 'a' 'l']\n"
     ]
    }
   ],
   "source": [
    "str=np.array(['b','i','r','b','a','l'])\n",
    "f=[True,False,False,True,True,True]\n",
    "new_str=str[f]\n",
    "print(new_str)"
   ]
  },
  {
   "cell_type": "code",
   "execution_count": 34,
   "id": "64efa0ae-4e5c-409f-80f0-40df0cc33bd6",
   "metadata": {
    "jupyter": {
     "source_hidden": true
    }
   },
   "outputs": [
    {
     "name": "stdout",
     "output_type": "stream",
     "text": [
      "36\n"
     ]
    }
   ],
   "source": [
    "graph = {\n",
    "    'a': {'b': 1, 'c': 6, 'd': 5},\n",
    "    'b': {'a': 1, 'c': 6},\n",
    "    'c': {'a': 6, 'b': 6, 'd': 3, 'e': 7},\n",
    "    'd': {'a': 5, 'c': 3, 'f': 2, 'g': 10},\n",
    "    'e': {'c': 7, 'h': 12},\n",
    "    'f': {'d': 2, 'h': 8},\n",
    "    'g': {'d': 10, 'h': 7, 'i': 3},\n",
    "    'h': {'e': 12, 'f': 8, 'g': 7, 'i': 8},\n",
    "    'i': {'g': 3, 'h': 8},\n",
    "}\n",
    "\n",
    "def prims_algorithm(graph):\n",
    "    start_node = 'a'\n",
    "    visited = {start_node}\n",
    "    edge_list = []\n",
    "    total_cost = 0\n",
    "\n",
    "    while len(visited) < len(graph):\n",
    "        min_edge = None\n",
    "        min_cost = float('inf')\n",
    "\n",
    "        for node in visited:\n",
    "            for neighbor in graph[node]:\n",
    "                if neighbor not in visited:\n",
    "                    cost = graph[node][neighbor]\n",
    "                    if cost < min_cost:\n",
    "                        min_edge = (node, neighbor)\n",
    "                        min_cost = cost\n",
    "\n",
    "        if min_edge:\n",
    "            visited.add(min_edge[1])\n",
    "            edge_list.append(min_edge)\n",
    "            total_cost += min_cost\n",
    "\n",
    "    return total_cost\n",
    "\n",
    "total_cost = prims_algorithm(graph)\n",
    "print(total_cost)"
   ]
  },
  {
   "cell_type": "markdown",
   "id": "bf81f0da-25ff-4554-8c47-736a099db4ed",
   "metadata": {},
   "source": [
    "# NumPy Arrays Function"
   ]
  },
  {
   "cell_type": "markdown",
   "id": "8090d32f-8af4-47a0-b18a-412d0a160e24",
   "metadata": {},
   "source": [
    "### Unique"
   ]
  },
  {
   "cell_type": "code",
   "execution_count": 35,
   "id": "a9d18caf-b8f3-44be-8785-a98f86055e2b",
   "metadata": {},
   "outputs": [
    {
     "name": "stdout",
     "output_type": "stream",
     "text": [
      "[ 1  3 23 43]\n"
     ]
    }
   ],
   "source": [
    "arr=np.array([1,1,23,43,23,3,3,3])\n",
    "x=np.unique(arr)\n",
    "print(x)"
   ]
  },
  {
   "cell_type": "code",
   "execution_count": 37,
   "id": "8a381e49-04bd-4807-8738-809b4991bbad",
   "metadata": {},
   "outputs": [
    {
     "name": "stdout",
     "output_type": "stream",
     "text": [
      "(array([ 1,  3, 23, 43]), array([0, 5, 2, 3], dtype=int64))\n"
     ]
    }
   ],
   "source": [
    "x=np.unique(arr,return_index=True)\n",
    "print(x)"
   ]
  },
  {
   "cell_type": "markdown",
   "id": "e25254b1-de3c-4fbb-80ec-34e3a5e8eecb",
   "metadata": {},
   "source": [
    "# Resize"
   ]
  },
  {
   "cell_type": "code",
   "execution_count": 40,
   "id": "bb347b9f-a263-4334-ade0-37a43205d93a",
   "metadata": {},
   "outputs": [
    {
     "name": "stdout",
     "output_type": "stream",
     "text": [
      "[[ 1  1 23 43]\n",
      " [23  3  3  3]]\n"
     ]
    }
   ],
   "source": [
    "arr=np.array([1,1,23,43,23,3,3,3])\n",
    "y=np.resize(arr,(2,4))\n",
    "print(y)"
   ]
  },
  {
   "cell_type": "markdown",
   "id": "0217c75b-fdcb-40bb-98a7-20adfb05da4a",
   "metadata": {},
   "source": [
    "# Insert and Delete Function"
   ]
  },
  {
   "cell_type": "code",
   "execution_count": 41,
   "id": "049de4b5-3011-4d65-950e-6a677cb7703f",
   "metadata": {},
   "outputs": [
    {
     "name": "stdout",
     "output_type": "stream",
     "text": [
      "[  1   1  23 500  43  23   3   3   3]\n"
     ]
    }
   ],
   "source": [
    "arr=np.array([1,1,23,43,23,3,3,3])\n",
    "v=np.insert(arr,3,500)\n",
    "print(v)"
   ]
  },
  {
   "cell_type": "code",
   "execution_count": 43,
   "id": "d364ae01-24c8-49ad-9c28-2b744abe5050",
   "metadata": {},
   "outputs": [
    {
     "name": "stdout",
     "output_type": "stream",
     "text": [
      "[[  1   1  23  43]\n",
      " [500 500 500 500]\n",
      " [ 32  34   5   6]]\n"
     ]
    }
   ],
   "source": [
    "arr=np.array([[1,1,23,43],[32,34,5,6]])\n",
    "v=np.insert(arr,1,500,axis=0)\n",
    "print(v)"
   ]
  },
  {
   "cell_type": "code",
   "execution_count": 44,
   "id": "ebf259bc-4091-4db4-98e2-75f211a1d7b5",
   "metadata": {},
   "outputs": [
    {
     "name": "stdout",
     "output_type": "stream",
     "text": [
      "[[  1 500   1  23  43]\n",
      " [ 32 500  34   5   6]]\n"
     ]
    }
   ],
   "source": [
    "arr=np.array([[1,1,23,43],[32,34,5,6]])\n",
    "v=np.insert(arr,1,500,axis=1)\n",
    "print(v)"
   ]
  },
  {
   "cell_type": "code",
   "execution_count": 47,
   "id": "f7837b1b-5487-4acb-9a44-8dc0fb87ccab",
   "metadata": {},
   "outputs": [
    {
     "name": "stdout",
     "output_type": "stream",
     "text": [
      "[[  1   1  23  43]\n",
      " [ 32  34   5   6]\n",
      " [100 200 300  60]]\n"
     ]
    }
   ],
   "source": [
    "arr=np.array([[1,1,23,43],[32,34,5,6]])\n",
    "v=np.append(arr,[[100,200,300,60]],axis=0)\n",
    "print(v)"
   ]
  },
  {
   "cell_type": "markdown",
   "id": "1a5dbb7f-a3a8-4240-b4fe-35b73903aeed",
   "metadata": {},
   "source": [
    "## Delete"
   ]
  },
  {
   "cell_type": "code",
   "execution_count": 49,
   "id": "525aed8b-82ed-43ac-97c6-948379414a4c",
   "metadata": {},
   "outputs": [
    {
     "name": "stdout",
     "output_type": "stream",
     "text": [
      "[23 43 54 56]\n",
      "[23 43 54]\n"
     ]
    }
   ],
   "source": [
    "var1=np.array([23,43,54,56])\n",
    "print(var1)\n",
    "dee=np.delete(var1,3)\n",
    "print(dee)"
   ]
  },
  {
   "cell_type": "markdown",
   "id": "825dea67-c66b-42f1-b6b5-4c53f2ae6e65",
   "metadata": {},
   "source": [
    "# Matrix In NumPy Arrays"
   ]
  },
  {
   "cell_type": "code",
   "execution_count": 50,
   "id": "10c35c70-8593-439e-8b98-4e5a94db149f",
   "metadata": {},
   "outputs": [
    {
     "name": "stdout",
     "output_type": "stream",
     "text": [
      "[[ 1  3  4]\n",
      " [45 67 54]]\n",
      "<class 'numpy.matrix'>\n"
     ]
    }
   ],
   "source": [
    "matr=np.matrix([[1,3,4],[45,67,54]])\n",
    "print(matr)\n",
    "print(type(matr))"
   ]
  },
  {
   "cell_type": "code",
   "execution_count": 54,
   "id": "dc3144e0-adbe-4659-8d99-8f40082b26d3",
   "metadata": {},
   "outputs": [
    {
     "name": "stdout",
     "output_type": "stream",
     "text": [
      "[[  4  37   8]\n",
      " [ 90  73 108]\n",
      " [ 79 123 163]]\n"
     ]
    }
   ],
   "source": [
    "mat1=np.matrix([[1,3,4],[45,67,54],[34,56,76]])\n",
    "mat2=np.matrix([[3,34,4],[45,6,54],[45,67,87]])\n",
    "print(mat1+mat2)\n"
   ]
  },
  {
   "cell_type": "code",
   "execution_count": 55,
   "id": "c3ccd06d-9f3d-4731-994c-d28ba14f2e2c",
   "metadata": {},
   "outputs": [
    {
     "name": "stdout",
     "output_type": "stream",
     "text": [
      "[[ 318  320  514]\n",
      " [5580 5550 8496]\n",
      " [6042 6584 9772]]\n"
     ]
    }
   ],
   "source": [
    "# Multiplication\n",
    "print(mat1*mat2)"
   ]
  },
  {
   "cell_type": "markdown",
   "id": "8f7f02b3-7208-4325-a073-adb2a91dd01c",
   "metadata": {},
   "source": [
    "# Matrix Function In Numpy Arrays"
   ]
  },
  {
   "cell_type": "markdown",
   "id": "1aeea751-8bd0-4d4b-ae73-ec65d47bf29a",
   "metadata": {},
   "source": [
    "### Transpose"
   ]
  },
  {
   "cell_type": "code",
   "execution_count": 56,
   "id": "4b9980e0-2fe9-4321-b4aa-ce338b2aae71",
   "metadata": {},
   "outputs": [
    {
     "name": "stdout",
     "output_type": "stream",
     "text": [
      "[[ 1 45 34]\n",
      " [ 3 67 56]\n",
      " [ 4 54 76]]\n"
     ]
    }
   ],
   "source": [
    "mat1=np.matrix([[1,3,4],[45,67,54],[34,56,76]])\n",
    "print(np.transpose(mat1))"
   ]
  },
  {
   "cell_type": "markdown",
   "id": "c3ebc917-3289-4d04-9881-01d6dd593e1f",
   "metadata": {},
   "source": [
    "#### Inverse"
   ]
  },
  {
   "cell_type": "code",
   "execution_count": 57,
   "id": "801487f8-05da-4111-b284-767961387086",
   "metadata": {},
   "outputs": [
    {
     "name": "stdout",
     "output_type": "stream",
     "text": [
      "[[-1.20512821  0.002331    0.06177156]\n",
      " [ 0.92307692  0.03496503 -0.07342657]\n",
      " [-0.14102564 -0.02680653  0.03962704]]\n"
     ]
    }
   ],
   "source": [
    "print(np.linalg.inv(mat1))"
   ]
  },
  {
   "cell_type": "code",
   "execution_count": 58,
   "id": "545b8ae2-2650-4126-b538-7eca15598e7c",
   "metadata": {},
   "outputs": [
    {
     "name": "stdout",
     "output_type": "stream",
     "text": [
      "-1716.0000000000002\n"
     ]
    }
   ],
   "source": [
    "print(np.linalg.det(mat1))"
   ]
  },
  {
   "cell_type": "code",
   "execution_count": 59,
   "id": "973651b7-be53-491a-847d-e6f19af8dba4",
   "metadata": {},
   "outputs": [
    {
     "name": "stdout",
     "output_type": "stream",
     "text": [
      "[[ 272  428  470]\n",
      " [4896 7648 7902]\n",
      " [5138 8110 8936]]\n"
     ]
    }
   ],
   "source": [
    "mat1=np.matrix([[1,3,4],[45,67,54],[34,56,76]])\n",
    "print(np.linalg.matrix_power(mat1,2))"
   ]
  },
  {
   "cell_type": "code",
   "execution_count": null,
   "id": "8c6d6e9e-2ecf-45a2-bf38-a689b512d382",
   "metadata": {},
   "outputs": [],
   "source": []
  },
  {
   "cell_type": "code",
   "execution_count": null,
   "id": "e9229b4b-5897-4e54-9cbe-5330ea294664",
   "metadata": {},
   "outputs": [],
   "source": []
  },
  {
   "cell_type": "code",
   "execution_count": null,
   "id": "3f940106-dd21-40d6-b31d-b02e44b6ceed",
   "metadata": {},
   "outputs": [],
   "source": []
  },
  {
   "cell_type": "code",
   "execution_count": null,
   "id": "7bc4c826-914d-4ce8-af16-dcb21c01613a",
   "metadata": {},
   "outputs": [],
   "source": []
  },
  {
   "cell_type": "code",
   "execution_count": null,
   "id": "1d1756a9-ff4b-4b01-9e18-4d76859eb95c",
   "metadata": {},
   "outputs": [],
   "source": []
  }
 ],
 "metadata": {
  "kernelspec": {
   "display_name": "Python 3 (ipykernel)",
   "language": "python",
   "name": "python3"
  },
  "language_info": {
   "codemirror_mode": {
    "name": "ipython",
    "version": 3
   },
   "file_extension": ".py",
   "mimetype": "text/x-python",
   "name": "python",
   "nbconvert_exporter": "python",
   "pygments_lexer": "ipython3",
   "version": "3.12.4"
  }
 },
 "nbformat": 4,
 "nbformat_minor": 5
}
